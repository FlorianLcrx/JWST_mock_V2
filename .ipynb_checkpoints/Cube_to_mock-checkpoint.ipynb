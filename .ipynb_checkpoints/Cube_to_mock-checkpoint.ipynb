{
 "cells": [
  {
   "cell_type": "code",
   "execution_count": 1,
   "id": "a53d5019-50fd-4c35-8a76-ce54e9054bbe",
   "metadata": {},
   "outputs": [],
   "source": [
    "import illustris_python as il\n",
    "import matplotlib.pyplot as plt\n",
    "import numpy as np\n",
    "import matplotlib  as mpl\n",
    "import h5py\n",
    "import matplotlib.colors as colors\n",
    "from tqdm import tqdm\n",
    "from scipy import stats\n",
    "import cmasher as cmr\n",
    "import seaborn as sns\n",
    "import warnings\n",
    "import multiprocessing as mp\n",
    "from functools import partial\n",
    "from tqdm import tqdm\n",
    "\n",
    "from astropy.cosmology import FlatLambdaCDM\n",
    "import astropy.units as u\n",
    "\n",
    "from matplotlib.colors import Normalize\n",
    "\n",
    "import matplotlib.cm as cm\n",
    "from matplotlib.cm import ScalarMappable\n",
    "\n",
    "from matplotlib.colors import LogNorm"
   ]
  },
  {
   "cell_type": "markdown",
   "id": "706bc869-34a9-4210-aadd-a57c4e6cd3cb",
   "metadata": {},
   "source": [
    "## Load data "
   ]
  },
  {
   "cell_type": "code",
   "execution_count": 2,
   "id": "e31b3bf6-c521-49da-92c9-bae53902150b",
   "metadata": {},
   "outputs": [
    {
     "name": "stdout",
     "output_type": "stream",
     "text": [
      "[-10.48623219  -9.84578323  -9.20533427  -8.56488532  -7.92443636\n",
      "  -7.28398741  -6.64353845  -6.00308949  -5.36264054  -4.72219158\n",
      "  -4.08174262  -3.44129367  -2.80084471  -2.16039575  -1.5199468\n",
      "  -0.87949784  -0.23904889   0.40140007   1.04184903   1.68229798\n",
      "   2.32274694   2.9631959    3.60364485   4.24409381   4.88454277\n",
      "   5.52499172   6.16544068   6.80588963   7.44633859   8.08678755\n",
      "   8.7272365    9.36768546  10.00813442  10.64858337  11.28903233\n",
      "  11.92948128]\n"
     ]
    }
   ],
   "source": [
    "my_data_cube = np.load('/u/flolac/Cube_datas/cube_data.npy')\n",
    "\n",
    "bin_centers_lambda = np.load('/u/flolac/Cube_datas/bin_centers_lambda.npy')\n",
    "\n",
    "my_data_cube = np.transpose(my_data_cube, (2, 1, 0))\n",
    "\n",
    "bin_edges_data = np.load('/u/flolac/Cube_datas/Bin_edges.npz')\n",
    "x_bins = bin_edges_data['x']\n",
    "y_bins = bin_edges_data['y']\n",
    "lambda_bins = bin_edges_data['lambda_']\n",
    "\n",
    "lambda_alpha_rest = 6564.6\n",
    "z=2\n",
    "lambda_alpha = lambda_alpha_rest * (1+z)\n",
    "print(lambda_bins)\n",
    "lambda_bins += lambda_alpha\n",
    "lambda_bins *= (1+z)\n",
    "\n",
    "Bin_edges = [x_bins, y_bins, lambda_bins]"
   ]
  },
  {
   "cell_type": "code",
   "execution_count": 3,
   "id": "2eb595ae-0fc8-47c2-9778-75098b71544d",
   "metadata": {},
   "outputs": [
    {
     "data": {
      "text/plain": [
       "array([-10.16600771,  -9.52555875,  -8.8851098 ,  -8.24466084,\n",
       "        -7.60421188,  -6.96376293,  -6.32331397,  -5.68286501,\n",
       "        -5.04241606,  -4.4019671 ,  -3.76151815,  -3.12106919,\n",
       "        -2.48062023,  -1.84017128,  -1.19972232,  -0.55927336,\n",
       "         0.08117559,   0.72162455,   1.36207351,   2.00252246,\n",
       "         2.64297142,   3.28342037,   3.92386933,   4.56431829,\n",
       "         5.20476724,   5.8452162 ,   6.48566516,   7.12611411,\n",
       "         7.76656307,   8.40701203,   9.04746098,   9.68790994,\n",
       "        10.32835889,  10.96880785,  11.60925681])"
      ]
     },
     "execution_count": 3,
     "metadata": {},
     "output_type": "execute_result"
    }
   ],
   "source": [
    "bin_centers_lambda"
   ]
  },
  {
   "cell_type": "code",
   "execution_count": 4,
   "id": "7a0e9ee8-b7dc-4dee-8863-87be71c3dd9f",
   "metadata": {},
   "outputs": [],
   "source": [
    "bin_centers_lambda+=lambda_alpha"
   ]
  },
  {
   "cell_type": "code",
   "execution_count": 5,
   "id": "03c6f9cc-2abd-43b2-9307-2a2b981810e1",
   "metadata": {},
   "outputs": [
    {
     "data": {
      "text/plain": [
       "19693.800000000003"
      ]
     },
     "execution_count": 5,
     "metadata": {},
     "output_type": "execute_result"
    }
   ],
   "source": [
    "lambda_alpha"
   ]
  },
  {
   "cell_type": "markdown",
   "id": "2926c885-be2b-44ce-8461-f5d094ed1910",
   "metadata": {},
   "source": [
    "## Using msafit"
   ]
  },
  {
   "cell_type": "code",
   "execution_count": 6,
   "id": "b3f69c52-ecb8-4f22-ad9a-41e22e13e7b0",
   "metadata": {},
   "outputs": [],
   "source": [
    "from msafit.model.config import get_default_config\n",
    "params = get_default_config()\n",
    "params['instrument']['filter'] = \"F170LP\"\n",
    "params['instrument']['disperser'] = \"G235H\""
   ]
  },
  {
   "cell_type": "code",
   "execution_count": 7,
   "id": "f403117b-4a65-4d3a-a798-3e07f5ddbfd8",
   "metadata": {},
   "outputs": [
    {
     "data": {
      "text/plain": [
       "array([19683.63399229, 19684.27444125, 19684.9148902 , 19685.55533916,\n",
       "       19686.19578812, 19686.83623707, 19687.47668603, 19688.11713499,\n",
       "       19688.75758394, 19689.3980329 , 19690.03848185, 19690.67893081,\n",
       "       19691.31937977, 19691.95982872, 19692.60027768, 19693.24072664,\n",
       "       19693.88117559, 19694.52162455, 19695.16207351, 19695.80252246,\n",
       "       19696.44297142, 19697.08342037, 19697.72386933, 19698.36431829,\n",
       "       19699.00476724, 19699.6452162 , 19700.28566516, 19700.92611411,\n",
       "       19701.56656307, 19702.20701203, 19702.84746098, 19703.48790994,\n",
       "       19704.12835889, 19704.76880785, 19705.40925681])"
      ]
     },
     "execution_count": 7,
     "metadata": {},
     "output_type": "execute_result"
    }
   ],
   "source": [
    "bin_centers_lambda"
   ]
  },
  {
   "cell_type": "code",
   "execution_count": 8,
   "id": "b91749eb-8f04-4ccd-8c7e-05b0e253a590",
   "metadata": {},
   "outputs": [],
   "source": [
    "from msafit.fpa import PSFLib\n",
    "\n",
    "psfs = PSFLib('1x3_G235H_Q3_PSFLib.fits')\n",
    "\n",
    "params[\"grid\"][\"x_grid\"] = psfs.psf_x\n",
    "params[\"grid\"][\"y_grid\"] = psfs.psf_y\n",
    "params[\"grid\"][\"wave_grid\"] = bin_centers_lambda"
   ]
  },
  {
   "cell_type": "code",
   "execution_count": 9,
   "id": "4f5fb29f-2686-4bcb-a3b5-de54ed1b9708",
   "metadata": {},
   "outputs": [
    {
     "data": {
      "text/plain": [
       "array([19683.63399229, 19684.27444125, 19684.9148902 , 19685.55533916,\n",
       "       19686.19578812, 19686.83623707, 19687.47668603, 19688.11713499,\n",
       "       19688.75758394, 19689.3980329 , 19690.03848185, 19690.67893081,\n",
       "       19691.31937977, 19691.95982872, 19692.60027768, 19693.24072664,\n",
       "       19693.88117559, 19694.52162455, 19695.16207351, 19695.80252246,\n",
       "       19696.44297142, 19697.08342037, 19697.72386933, 19698.36431829,\n",
       "       19699.00476724, 19699.6452162 , 19700.28566516, 19700.92611411,\n",
       "       19701.56656307, 19702.20701203, 19702.84746098, 19703.48790994,\n",
       "       19704.12835889, 19704.76880785, 19705.40925681])"
      ]
     },
     "execution_count": 9,
     "metadata": {},
     "output_type": "execute_result"
    }
   ],
   "source": [
    "bin_centers_lambda"
   ]
  },
  {
   "cell_type": "code",
   "execution_count": 10,
   "id": "0d3e3c6f-af69-4787-807d-62273d1e8576",
   "metadata": {},
   "outputs": [
    {
     "data": {
      "text/plain": [
       "(17, 79, 23, 125, 125)"
      ]
     },
     "execution_count": 10,
     "metadata": {},
     "output_type": "execute_result"
    }
   ],
   "source": [
    "np.shape(psfs.psf_cube)"
   ]
  },
  {
   "cell_type": "code",
   "execution_count": 11,
   "id": "89dec60a-3f90-4310-872e-60d74c4d7656",
   "metadata": {},
   "outputs": [],
   "source": [
    "#psfs.__dict__"
   ]
  },
  {
   "cell_type": "code",
   "execution_count": 12,
   "id": "e856fcc8-a4a6-4e84-be61-307eaebbd1ff",
   "metadata": {},
   "outputs": [
    {
     "data": {
      "text/plain": [
       "(17, 79, 23, 125, 125)"
      ]
     },
     "execution_count": 12,
     "metadata": {},
     "output_type": "execute_result"
    }
   ],
   "source": [
    "np.shape(psfs.psf_cube)"
   ]
  },
  {
   "cell_type": "code",
   "execution_count": 13,
   "id": "25e20343-4202-4a0f-9533-e7ef94fdc75d",
   "metadata": {},
   "outputs": [],
   "source": [
    "from msafit.model.cube import Cube\n",
    "\n",
    "cube = Cube(psfs.psf_x,psfs.psf_y,bin_centers_lambda)"
   ]
  },
  {
   "cell_type": "code",
   "execution_count": 14,
   "id": "59da480d-0935-47c1-a7c6-6b7657fd398e",
   "metadata": {},
   "outputs": [],
   "source": [
    "cube.data = my_data_cube"
   ]
  },
  {
   "cell_type": "code",
   "execution_count": 15,
   "id": "8ca18d85-04e4-4229-9c40-5196b1745cf3",
   "metadata": {},
   "outputs": [
    {
     "data": {
      "text/plain": [
       "{'_x': array([[-1.        , -0.90909091, -0.81818182, ...,  0.81818182,\n",
       "          0.90909091,  1.        ],\n",
       "        [-1.        , -0.90909091, -0.81818182, ...,  0.81818182,\n",
       "          0.90909091,  1.        ],\n",
       "        [-1.        , -0.90909091, -0.81818182, ...,  0.81818182,\n",
       "          0.90909091,  1.        ],\n",
       "        ...,\n",
       "        [-1.        , -0.90909091, -0.81818182, ...,  0.81818182,\n",
       "          0.90909091,  1.        ],\n",
       "        [-1.        , -0.90909091, -0.81818182, ...,  0.81818182,\n",
       "          0.90909091,  1.        ],\n",
       "        [-1.        , -0.90909091, -0.81818182, ...,  0.81818182,\n",
       "          0.90909091,  1.        ]], dtype='>f8'),\n",
       " '_y': array([[-1.8       , -1.8       , -1.8       , ..., -1.8       ,\n",
       "         -1.8       , -1.8       ],\n",
       "        [-1.75384615, -1.75384615, -1.75384615, ..., -1.75384615,\n",
       "         -1.75384615, -1.75384615],\n",
       "        [-1.70769231, -1.70769231, -1.70769231, ..., -1.70769231,\n",
       "         -1.70769231, -1.70769231],\n",
       "        ...,\n",
       "        [ 1.70769231,  1.70769231,  1.70769231, ...,  1.70769231,\n",
       "          1.70769231,  1.70769231],\n",
       "        [ 1.75384615,  1.75384615,  1.75384615, ...,  1.75384615,\n",
       "          1.75384615,  1.75384615],\n",
       "        [ 1.8       ,  1.8       ,  1.8       , ...,  1.8       ,\n",
       "          1.8       ,  1.8       ]], dtype='>f8'),\n",
       " '_wave': array([19683.63399229, 19684.27444125, 19684.9148902 , 19685.55533916,\n",
       "        19686.19578812, 19686.83623707, 19687.47668603, 19688.11713499,\n",
       "        19688.75758394, 19689.3980329 , 19690.03848185, 19690.67893081,\n",
       "        19691.31937977, 19691.95982872, 19692.60027768, 19693.24072664,\n",
       "        19693.88117559, 19694.52162455, 19695.16207351, 19695.80252246,\n",
       "        19696.44297142, 19697.08342037, 19697.72386933, 19698.36431829,\n",
       "        19699.00476724, 19699.6452162 , 19700.28566516, 19700.92611411,\n",
       "        19701.56656307, 19702.20701203, 19702.84746098, 19703.48790994,\n",
       "        19704.12835889, 19704.76880785, 19705.40925681]),\n",
       " '_wave_sampling': 'linear',\n",
       " '_dim': (35, 79, 23),\n",
       " 'data': array([[[0., 0., 0., ..., 0., 0., 0.],\n",
       "         [0., 0., 0., ..., 0., 0., 0.],\n",
       "         [0., 0., 0., ..., 0., 0., 0.],\n",
       "         ...,\n",
       "         [0., 0., 0., ..., 0., 0., 0.],\n",
       "         [0., 0., 0., ..., 0., 0., 0.],\n",
       "         [0., 0., 0., ..., 0., 0., 0.]],\n",
       " \n",
       "        [[0., 0., 0., ..., 0., 0., 0.],\n",
       "         [0., 0., 0., ..., 0., 0., 0.],\n",
       "         [0., 0., 0., ..., 0., 0., 0.],\n",
       "         ...,\n",
       "         [0., 0., 0., ..., 0., 0., 0.],\n",
       "         [0., 0., 0., ..., 0., 0., 0.],\n",
       "         [0., 0., 0., ..., 0., 0., 0.]],\n",
       " \n",
       "        [[0., 0., 0., ..., 0., 0., 0.],\n",
       "         [0., 0., 0., ..., 0., 0., 0.],\n",
       "         [0., 0., 0., ..., 0., 0., 0.],\n",
       "         ...,\n",
       "         [0., 0., 0., ..., 0., 0., 0.],\n",
       "         [0., 0., 0., ..., 0., 0., 0.],\n",
       "         [0., 0., 0., ..., 0., 0., 0.]],\n",
       " \n",
       "        ...,\n",
       " \n",
       "        [[0., 0., 0., ..., 0., 0., 0.],\n",
       "         [0., 0., 0., ..., 0., 0., 0.],\n",
       "         [0., 0., 0., ..., 0., 0., 0.],\n",
       "         ...,\n",
       "         [0., 0., 0., ..., 0., 0., 0.],\n",
       "         [0., 0., 0., ..., 0., 0., 0.],\n",
       "         [0., 0., 0., ..., 0., 0., 0.]],\n",
       " \n",
       "        [[0., 0., 0., ..., 0., 0., 0.],\n",
       "         [0., 0., 0., ..., 0., 0., 0.],\n",
       "         [0., 0., 0., ..., 0., 0., 0.],\n",
       "         ...,\n",
       "         [0., 0., 0., ..., 0., 0., 0.],\n",
       "         [0., 0., 0., ..., 0., 0., 0.],\n",
       "         [0., 0., 0., ..., 0., 0., 0.]],\n",
       " \n",
       "        [[0., 0., 0., ..., 0., 0., 0.],\n",
       "         [0., 0., 0., ..., 0., 0., 0.],\n",
       "         [0., 0., 0., ..., 0., 0., 0.],\n",
       "         ...,\n",
       "         [0., 0., 0., ..., 0., 0., 0.],\n",
       "         [0., 0., 0., ..., 0., 0., 0.],\n",
       "         [0., 0., 0., ..., 0., 0., 0.]]])}"
      ]
     },
     "execution_count": 15,
     "metadata": {},
     "output_type": "execute_result"
    }
   ],
   "source": [
    "cube.__dict__"
   ]
  },
  {
   "cell_type": "code",
   "execution_count": 16,
   "id": "2eb06d47-6311-4ce4-bbbd-148462c2a788",
   "metadata": {},
   "outputs": [
    {
     "data": {
      "text/plain": [
       "array([[[0., 0., 0., ..., 0., 0., 0.],\n",
       "        [0., 0., 0., ..., 0., 0., 0.],\n",
       "        [0., 0., 0., ..., 0., 0., 0.],\n",
       "        ...,\n",
       "        [0., 0., 0., ..., 0., 0., 0.],\n",
       "        [0., 0., 0., ..., 0., 0., 0.],\n",
       "        [0., 0., 0., ..., 0., 0., 0.]],\n",
       "\n",
       "       [[0., 0., 0., ..., 0., 0., 0.],\n",
       "        [0., 0., 0., ..., 0., 0., 0.],\n",
       "        [0., 0., 0., ..., 0., 0., 0.],\n",
       "        ...,\n",
       "        [0., 0., 0., ..., 0., 0., 0.],\n",
       "        [0., 0., 0., ..., 0., 0., 0.],\n",
       "        [0., 0., 0., ..., 0., 0., 0.]],\n",
       "\n",
       "       [[0., 0., 0., ..., 0., 0., 0.],\n",
       "        [0., 0., 0., ..., 0., 0., 0.],\n",
       "        [0., 0., 0., ..., 0., 0., 0.],\n",
       "        ...,\n",
       "        [0., 0., 0., ..., 0., 0., 0.],\n",
       "        [0., 0., 0., ..., 0., 0., 0.],\n",
       "        [0., 0., 0., ..., 0., 0., 0.]],\n",
       "\n",
       "       ...,\n",
       "\n",
       "       [[0., 0., 0., ..., 0., 0., 0.],\n",
       "        [0., 0., 0., ..., 0., 0., 0.],\n",
       "        [0., 0., 0., ..., 0., 0., 0.],\n",
       "        ...,\n",
       "        [0., 0., 0., ..., 0., 0., 0.],\n",
       "        [0., 0., 0., ..., 0., 0., 0.],\n",
       "        [0., 0., 0., ..., 0., 0., 0.]],\n",
       "\n",
       "       [[0., 0., 0., ..., 0., 0., 0.],\n",
       "        [0., 0., 0., ..., 0., 0., 0.],\n",
       "        [0., 0., 0., ..., 0., 0., 0.],\n",
       "        ...,\n",
       "        [0., 0., 0., ..., 0., 0., 0.],\n",
       "        [0., 0., 0., ..., 0., 0., 0.],\n",
       "        [0., 0., 0., ..., 0., 0., 0.]],\n",
       "\n",
       "       [[0., 0., 0., ..., 0., 0., 0.],\n",
       "        [0., 0., 0., ..., 0., 0., 0.],\n",
       "        [0., 0., 0., ..., 0., 0., 0.],\n",
       "        ...,\n",
       "        [0., 0., 0., ..., 0., 0., 0.],\n",
       "        [0., 0., 0., ..., 0., 0., 0.],\n",
       "        [0., 0., 0., ..., 0., 0., 0.]]])"
      ]
     },
     "execution_count": 16,
     "metadata": {},
     "output_type": "execute_result"
    }
   ],
   "source": [
    "my_data_cube"
   ]
  },
  {
   "cell_type": "code",
   "execution_count": 17,
   "id": "3f3843d8-2e10-4906-95dd-587e397cc99a",
   "metadata": {},
   "outputs": [],
   "source": [
    "#cube.__dict__"
   ]
  },
  {
   "cell_type": "code",
   "execution_count": 18,
   "id": "98a4ad6f-7c6a-490e-92d9-c92a4d543154",
   "metadata": {},
   "outputs": [
    {
     "name": "stdout",
     "output_type": "stream",
     "text": [
      "check sum: 382.73813823853186 380.2335276650687 381.9712264809363\n"
     ]
    }
   ],
   "source": [
    "l0 = lambda_alpha\n",
    "\n",
    "psf_lib = PSFLib('1x3_G235H_Q3_PSFLib.fits')\n",
    "psf_lib.interp_new_wave(l0)\n",
    "\n",
    "wsel = np.argmin(np.abs(psf_lib.psf_wave - l0))\n",
    "psf_lib.slice_cube(wsel=(wsel,wsel+1))"
   ]
  },
  {
   "cell_type": "code",
   "execution_count": 19,
   "id": "8f7f9b42-0e68-4aed-8861-d86b598a2549",
   "metadata": {},
   "outputs": [
    {
     "data": {
      "text/plain": [
       "(35, 79, 23)"
      ]
     },
     "execution_count": 19,
     "metadata": {},
     "output_type": "execute_result"
    }
   ],
   "source": [
    "np.shape(cube.data)"
   ]
  },
  {
   "cell_type": "code",
   "execution_count": 20,
   "id": "09a27d26-dc25-44cf-aab5-b772e8f33c4f",
   "metadata": {},
   "outputs": [
    {
     "data": {
      "text/plain": [
       "(1, 79, 23, 125, 125)"
      ]
     },
     "execution_count": 20,
     "metadata": {},
     "output_type": "execute_result"
    }
   ],
   "source": [
    "np.shape(psf_lib.psf_cube)"
   ]
  },
  {
   "cell_type": "code",
   "execution_count": 21,
   "id": "ce52323d-17d2-455b-ac87-26c77837df69",
   "metadata": {},
   "outputs": [
    {
     "name": "stdout",
     "output_type": "stream",
     "text": [
      "\n",
      "total flux on detector: [1.47447422e-20 5.05016754e-20 7.53666808e-20 9.95896114e-20\n",
      " 1.21670825e-19 1.69496267e-19 2.33089575e-19 3.08492282e-19\n",
      " 3.70143693e-19 4.02086182e-19 4.56357695e-19 4.72669589e-19\n",
      " 4.50982393e-19 4.58037129e-19 4.22876793e-19 2.96771786e-19\n",
      " 2.29734988e-19 1.91559636e-19 1.90085275e-19 1.75305566e-19\n",
      " 1.75675802e-19 2.30809772e-19 2.34307222e-19 2.34285891e-19\n",
      " 2.39475892e-19 2.22491569e-19 2.68481291e-19 2.96357472e-19\n",
      " 2.71072721e-19 1.50687766e-19 8.68908934e-20 2.94956369e-20\n",
      " 9.66912187e-21 9.55375040e-22 7.49095486e-23]\n"
     ]
    }
   ],
   "source": [
    "from msafit.fpa import Spec2D\n",
    "\n",
    "spec = Spec2D(params)\n",
    "throughput = spec.make_spec2d(cube,psf_lib,return_fluxes=True)\n",
    "\n",
    "print(\"\\ntotal flux on detector:\",throughput)"
   ]
  },
  {
   "cell_type": "code",
   "execution_count": 22,
   "id": "5de2841e-7e2e-417a-98fe-d6095f57cb16",
   "metadata": {},
   "outputs": [
    {
     "data": {
      "text/plain": [
       "{'pix_size': 1.8e-05,\n",
       " 'pix_per_shutter': 5,\n",
       " 'sca491': array([[[-0.03817102, -0.03815302, -0.03813502, ..., -0.00136102,\n",
       "          -0.00134302, -0.00132502],\n",
       "         [-0.03817102, -0.03815302, -0.03813502, ..., -0.00136102,\n",
       "          -0.00134302, -0.00132502],\n",
       "         [-0.03817102, -0.03815302, -0.03813502, ..., -0.00136102,\n",
       "          -0.00134302, -0.00132502],\n",
       "         ...,\n",
       "         [-0.03817102, -0.03815302, -0.03813502, ..., -0.00136102,\n",
       "          -0.00134302, -0.00132502],\n",
       "         [-0.03817102, -0.03815302, -0.03813502, ..., -0.00136102,\n",
       "          -0.00134302, -0.00132502],\n",
       "         [-0.03817102, -0.03815302, -0.03813502, ..., -0.00136102,\n",
       "          -0.00134302, -0.00132502]],\n",
       " \n",
       "        [[-0.018423  , -0.018423  , -0.018423  , ..., -0.018423  ,\n",
       "          -0.018423  , -0.018423  ],\n",
       "         [-0.018405  , -0.018405  , -0.018405  , ..., -0.018405  ,\n",
       "          -0.018405  , -0.018405  ],\n",
       "         [-0.018387  , -0.018387  , -0.018387  , ..., -0.018387  ,\n",
       "          -0.018387  , -0.018387  ],\n",
       "         ...,\n",
       "         [ 0.018387  ,  0.018387  ,  0.018387  , ...,  0.018387  ,\n",
       "           0.018387  ,  0.018387  ],\n",
       "         [ 0.018405  ,  0.018405  ,  0.018405  , ...,  0.018405  ,\n",
       "           0.018405  ,  0.018405  ],\n",
       "         [ 0.018423  ,  0.018423  ,  0.018423  , ...,  0.018423  ,\n",
       "           0.018423  ,  0.018423  ]]], dtype='>f8'),\n",
       " 'sca492': array([[[ 0.03817102,  0.03815302,  0.03813502, ...,  0.00136102,\n",
       "           0.00134302,  0.00132502],\n",
       "         [ 0.03817102,  0.03815302,  0.03813502, ...,  0.00136102,\n",
       "           0.00134302,  0.00132502],\n",
       "         [ 0.03817102,  0.03815302,  0.03813502, ...,  0.00136102,\n",
       "           0.00134302,  0.00132502],\n",
       "         ...,\n",
       "         [ 0.03817096,  0.03815296,  0.03813496, ...,  0.00136096,\n",
       "           0.00134296,  0.00132496],\n",
       "         [ 0.03817096,  0.03815296,  0.03813496, ...,  0.00136096,\n",
       "           0.00134296,  0.00132496],\n",
       "         [ 0.03817096,  0.03815296,  0.03813496, ...,  0.00136096,\n",
       "           0.00134296,  0.00132496]],\n",
       " \n",
       "        [[ 0.01842124,  0.01842124,  0.01842124, ...,  0.01842129,\n",
       "           0.01842129,  0.01842129],\n",
       "         [ 0.01840324,  0.01840324,  0.01840324, ...,  0.01840329,\n",
       "           0.01840329,  0.01840329],\n",
       "         [ 0.01838524,  0.01838524,  0.01838524, ...,  0.01838529,\n",
       "           0.01838529,  0.01838529],\n",
       "         ...,\n",
       "         [-0.01838876, -0.01838876, -0.01838876, ..., -0.01838871,\n",
       "          -0.01838871, -0.01838871],\n",
       "         [-0.01840676, -0.01840676, -0.01840676, ..., -0.01840671,\n",
       "          -0.01840671, -0.01840671],\n",
       "         [-0.01842476, -0.01842476, -0.01842476, ..., -0.01842471,\n",
       "          -0.01842471, -0.01842471]]], dtype='>f8'),\n",
       " 'det_oversample': 1,\n",
       " 'fwa': 'F170LP',\n",
       " 'gwa': 'G235H',\n",
       " 'qd': 3,\n",
       " 'N_shutter': 3,\n",
       " 'source_shutter': 0,\n",
       " 'cutout_oversample': 5,\n",
       " 's_i': 183,\n",
       " 's_j': 85,\n",
       " 'get_trace_x': <scipy.interpolate._interpolate.interp1d at 0x146262641fe0>,\n",
       " 'get_trace_y': <scipy.interpolate._interpolate.interp1d at 0x146262641db0>,\n",
       " 'get_trace_theta': <scipy.interpolate._interpolate.interp1d at 0x146262654e10>,\n",
       " 'params': {'geometry': {'quadrant': 3,\n",
       "   'shutter_i': 183,\n",
       "   'shutter_j': 85,\n",
       "   'shutter_array': '1x3',\n",
       "   'source_shutter': 0,\n",
       "   'psky_x': 0.268,\n",
       "   'psky_y': 0.53},\n",
       "  'instrument': {'filter': 'F170LP',\n",
       "   'disperser': 'G235H',\n",
       "   'psf_oversampling': 5},\n",
       "  'morph': [{'profile': 'sersic',\n",
       "    'flux': 1.0,\n",
       "    'x0': 0.0,\n",
       "    'y0': 0.0,\n",
       "    'x0_sky': None,\n",
       "    'y0_sky': None,\n",
       "    'r_e': 0.3,\n",
       "    'n': 1.0,\n",
       "    'q': 0.6,\n",
       "    'PA': 90.0}],\n",
       "  'vfield': [{'r_t': 0.2,\n",
       "    'v_a': 200.0,\n",
       "    'sigma_0': 50.0,\n",
       "    'PA_vel': 90.0,\n",
       "    'inclination': 60.0,\n",
       "    'x0_vel': 0.0,\n",
       "    'y0_vel': 0.0}],\n",
       "  'grid': {'x_grid': array([[-1.        , -0.90909091, -0.81818182, ...,  0.81818182,\n",
       "            0.90909091,  1.        ],\n",
       "          [-1.        , -0.90909091, -0.81818182, ...,  0.81818182,\n",
       "            0.90909091,  1.        ],\n",
       "          [-1.        , -0.90909091, -0.81818182, ...,  0.81818182,\n",
       "            0.90909091,  1.        ],\n",
       "          ...,\n",
       "          [-1.        , -0.90909091, -0.81818182, ...,  0.81818182,\n",
       "            0.90909091,  1.        ],\n",
       "          [-1.        , -0.90909091, -0.81818182, ...,  0.81818182,\n",
       "            0.90909091,  1.        ],\n",
       "          [-1.        , -0.90909091, -0.81818182, ...,  0.81818182,\n",
       "            0.90909091,  1.        ]], dtype='>f8'),\n",
       "   'y_grid': array([[-1.8       , -1.8       , -1.8       , ..., -1.8       ,\n",
       "           -1.8       , -1.8       ],\n",
       "          [-1.75384615, -1.75384615, -1.75384615, ..., -1.75384615,\n",
       "           -1.75384615, -1.75384615],\n",
       "          [-1.70769231, -1.70769231, -1.70769231, ..., -1.70769231,\n",
       "           -1.70769231, -1.70769231],\n",
       "          ...,\n",
       "          [ 1.70769231,  1.70769231,  1.70769231, ...,  1.70769231,\n",
       "            1.70769231,  1.70769231],\n",
       "          [ 1.75384615,  1.75384615,  1.75384615, ...,  1.75384615,\n",
       "            1.75384615,  1.75384615],\n",
       "          [ 1.8       ,  1.8       ,  1.8       , ...,  1.8       ,\n",
       "            1.8       ,  1.8       ]], dtype='>f8'),\n",
       "   'wave_grid': array([19683.63399229, 19684.27444125, 19684.9148902 , 19685.55533916,\n",
       "          19686.19578812, 19686.83623707, 19687.47668603, 19688.11713499,\n",
       "          19688.75758394, 19689.3980329 , 19690.03848185, 19690.67893081,\n",
       "          19691.31937977, 19691.95982872, 19692.60027768, 19693.24072664,\n",
       "          19693.88117559, 19694.52162455, 19695.16207351, 19695.80252246,\n",
       "          19696.44297142, 19697.08342037, 19697.72386933, 19698.36431829,\n",
       "          19699.00476724, 19699.6452162 , 19700.28566516, 19700.92611411,\n",
       "          19701.56656307, 19702.20701203, 19702.84746098, 19703.48790994,\n",
       "          19704.12835889, 19704.76880785, 19705.40925681]),\n",
       "   'wave_sampling': 'linear'}},\n",
       " '_make_full_detector': False,\n",
       " 'xgrid_491': array([[-0.00901822, -0.00901462, -0.00901102, ..., -0.00821902,\n",
       "         -0.00821542, -0.00821182],\n",
       "        [-0.00901822, -0.00901462, -0.00901102, ..., -0.00821902,\n",
       "         -0.00821542, -0.00821182],\n",
       "        [-0.00901822, -0.00901462, -0.00901102, ..., -0.00821902,\n",
       "         -0.00821542, -0.00821182],\n",
       "        ...,\n",
       "        [-0.00901822, -0.00901462, -0.00901102, ..., -0.00821902,\n",
       "         -0.00821542, -0.00821182],\n",
       "        [-0.00901822, -0.00901462, -0.00901102, ..., -0.00821902,\n",
       "         -0.00821542, -0.00821182],\n",
       "        [-0.00901822, -0.00901462, -0.00901102, ..., -0.00821902,\n",
       "         -0.00821542, -0.00821182]]),\n",
       " 'ygrid_491': array([[0.0105678, 0.0105678, 0.0105678, ..., 0.0105678, 0.0105678,\n",
       "         0.0105678],\n",
       "        [0.0105714, 0.0105714, 0.0105714, ..., 0.0105714, 0.0105714,\n",
       "         0.0105714],\n",
       "        [0.010575 , 0.010575 , 0.010575 , ..., 0.010575 , 0.010575 ,\n",
       "         0.010575 ],\n",
       "        ...,\n",
       "        [0.011007 , 0.011007 , 0.011007 , ..., 0.011007 , 0.011007 ,\n",
       "         0.011007 ],\n",
       "        [0.0110106, 0.0110106, 0.0110106, ..., 0.0110106, 0.0110106,\n",
       "         0.0110106],\n",
       "        [0.0110142, 0.0110142, 0.0110142, ..., 0.0110142, 0.0110142,\n",
       "         0.0110142]]),\n",
       " 'xgrid_492': None,\n",
       " 'ygrid_492': None,\n",
       " 'x_fpa': array([-0.00865374, -0.00865087, -0.00864799, -0.00864512, -0.00864225,\n",
       "        -0.00863937, -0.0086365 , -0.00863362, -0.00863075, -0.00862787,\n",
       "        -0.008625  , -0.00862212, -0.00861925, -0.00861637, -0.0086135 ,\n",
       "        -0.00861062, -0.00860775, -0.00860487, -0.008602  , -0.00859912,\n",
       "        -0.00859625, -0.00859337, -0.0085905 , -0.00858763, -0.00858475,\n",
       "        -0.00858188, -0.008579  , -0.00857613, -0.00857325, -0.00857038,\n",
       "        -0.0085675 , -0.00856463, -0.00856175, -0.00855888, -0.008556  ]),\n",
       " 'y_fpa': array([0.01078275, 0.01078273, 0.01078271, 0.01078269, 0.01078267,\n",
       "        0.01078265, 0.01078263, 0.01078261, 0.01078259, 0.01078257,\n",
       "        0.01078255, 0.01078253, 0.01078251, 0.01078249, 0.01078247,\n",
       "        0.01078245, 0.01078243, 0.01078241, 0.01078239, 0.01078238,\n",
       "        0.01078236, 0.01078234, 0.01078232, 0.0107823 , 0.01078228,\n",
       "        0.01078226, 0.01078224, 0.01078222, 0.0107822 , 0.01078218,\n",
       "        0.01078216, 0.01078214, 0.01078212, 0.0107821 , 0.01078208]),\n",
       " 'wl_fpa': array([19683.63399229, 19684.27444125, 19684.9148902 , 19685.55533916,\n",
       "        19686.19578812, 19686.83623707, 19687.47668603, 19688.11713499,\n",
       "        19688.75758394, 19689.3980329 , 19690.03848185, 19690.67893081,\n",
       "        19691.31937977, 19691.95982872, 19692.60027768, 19693.24072664,\n",
       "        19693.88117559, 19694.52162455, 19695.16207351, 19695.80252246,\n",
       "        19696.44297142, 19697.08342037, 19697.72386933, 19698.36431829,\n",
       "        19699.00476724, 19699.6452162 , 19700.28566516, 19700.92611411,\n",
       "        19701.56656307, 19702.20701203, 19702.84746098, 19703.48790994,\n",
       "        19704.12835889, 19704.76880785, 19705.40925681]),\n",
       " 'spec_491': array([[0., 0., 0., ..., 0., 0., 0.],\n",
       "        [0., 0., 0., ..., 0., 0., 0.],\n",
       "        [0., 0., 0., ..., 0., 0., 0.],\n",
       "        ...,\n",
       "        [0., 0., 0., ..., 0., 0., 0.],\n",
       "        [0., 0., 0., ..., 0., 0., 0.],\n",
       "        [0., 0., 0., ..., 0., 0., 0.]]),\n",
       " 'spec_492': None}"
      ]
     },
     "execution_count": 22,
     "metadata": {},
     "output_type": "execute_result"
    }
   ],
   "source": [
    "spec.__dict__"
   ]
  },
  {
   "cell_type": "code",
   "execution_count": 23,
   "id": "6ae02596-0f50-4c70-88dc-bc008384c487",
   "metadata": {},
   "outputs": [],
   "source": [
    "spec.spec_492"
   ]
  },
  {
   "cell_type": "code",
   "execution_count": 24,
   "id": "2970510c-d449-4b01-9d1f-8c7136d4d2a0",
   "metadata": {},
   "outputs": [
    {
     "data": {
      "image/png": "[encoded data removed]",
      "text/plain": [
       "<Figure size 640x480 with 1 Axes>"
      ]
     },
     "metadata": {},
     "output_type": "display_data"
    }
   ],
   "source": [
    "# let's plot some of detector SCA-491 \n",
    "\n",
    "plt.imshow(spec.spec_491,origin='lower')\n",
    "plt.axis('off')\n",
    "plt.show()"
   ]
  },
  {
   "cell_type": "markdown",
   "id": "023202f9-9a51-489f-91e0-34af35a0f3c1",
   "metadata": {},
   "source": [
    "## Adding noise"
   ]
  },
  {
   "cell_type": "code",
   "execution_count": 25,
   "id": "d355f27b-277e-48ff-bf90-0e9dcbafe0f1",
   "metadata": {},
   "outputs": [],
   "source": [
    "flattened_array = spec.spec_491.flatten()\n",
    "sorted_array = np.sort(flattened_array)[::-1]\n",
    "top_12_values = sorted_array[:12]"
   ]
  },
  {
   "cell_type": "code",
   "execution_count": 26,
   "id": "a6916f9f-5c99-4401-b39e-0c559a851801",
   "metadata": {},
   "outputs": [],
   "source": [
    "Flux = np.sum(top_12_values)\n",
    "SNR = 50\n",
    "N = 12\n",
    "Sqrt_N = np.sqrt(N)"
   ]
  },
  {
   "cell_type": "code",
   "execution_count": 27,
   "id": "e8727a66-3a09-4f1e-bf9a-0b7438257af9",
   "metadata": {},
   "outputs": [],
   "source": [
    "Sigma = Flux / (SNR * Sqrt_N)"
   ]
  },
  {
   "cell_type": "code",
   "execution_count": 28,
   "id": "27990d97-d619-400d-b362-da73ced8381c",
   "metadata": {},
   "outputs": [],
   "source": [
    "gaussian_noise = np.random.normal(0, Sigma, spec.spec_491.shape)\n",
    "\n",
    "# Add the Gaussian noise to the original RPM data\n",
    "Noisy_spec_491 = spec.spec_491 + gaussian_noise"
   ]
  },
  {
   "cell_type": "code",
   "execution_count": 29,
   "id": "6d59ef95-0285-4495-9a2d-f124d2c63a18",
   "metadata": {},
   "outputs": [
    {
     "data": {
      "image/png": "[encoded data removed]",
      "text/plain": [
       "<Figure size 640x480 with 1 Axes>"
      ]
     },
     "metadata": {},
     "output_type": "display_data"
    }
   ],
   "source": [
    "plt.imshow(Noisy_spec_491,origin='lower')\n",
    "plt.title(\"SNR = 50\")\n",
    "plt.axis('off')\n",
    "plt.show()"
   ]
  },
  {
   "cell_type": "code",
   "execution_count": 30,
   "id": "63c9a1a4-281a-4588-8d1e-2c61df5113a1",
   "metadata": {},
   "outputs": [],
   "source": [
    "np.save('/u/flolac/Mocks/mock_1.npy', Noisy_spec_491)\n",
    "np.save('/u/flolac/Mocks/error_array_1.npy', gaussian_noise)"
   ]
  },
  {
   "cell_type": "code",
   "execution_count": 31,
   "id": "203cf17e-6c00-4aeb-a51d-00dd2c87c50e",
   "metadata": {},
   "outputs": [
    {
     "name": "stdout",
     "output_type": "stream",
     "text": [
      "\n",
      "params['instrument'] {'filter': 'F170LP', 'disperser': 'G235H', 'psf_oversampling': 5}\n",
      "\n",
      "params['geometry']= {'quadrant': 3, 'shutter_i': 183, 'shutter_j': 85, 'shutter_array': '1x3', 'source_shutter': 0, 'psky_x': 0.268, 'psky_y': 0.53}\n",
      "\n",
      "params['morph']= [{'profile': 'sersic', 'flux': 1.0, 'x0': 0.0, 'y0': 0.0, 'x0_sky': None, 'y0_sky': None, 'r_e': 0.3, 'n': 1.0, 'q': 0.6, 'PA': 90.0}]\n"
     ]
    }
   ],
   "source": [
    "print(\"\\nparams['instrument']\",params[\"instrument\"])\n",
    "print(\"\\nparams['geometry']=\", params[\"geometry\"])\n",
    "print(\"\\nparams['morph']=\", params[\"morph\"])"
   ]
  },
  {
   "cell_type": "code",
   "execution_count": null,
   "id": "088b7540-9028-4846-bb1c-f346976aa044",
   "metadata": {},
   "outputs": [],
   "source": []
  }
 ],
 "metadata": {
  "kernelspec": {
   "display_name": "Python 3 (ipykernel)",
   "language": "python",
   "name": "python3"
  },
  "language_info": {
   "codemirror_mode": {
    "name": "ipython",
    "version": 3
   },
   "file_extension": ".py",
   "mimetype": "text/x-python",
   "name": "python",
   "nbconvert_exporter": "python",
   "pygments_lexer": "ipython3",
   "version": "3.12.2"
  }
 },
 "nbformat": 4,
 "nbformat_minor": 5
}
